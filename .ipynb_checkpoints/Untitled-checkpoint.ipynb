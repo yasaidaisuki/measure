{
 "cells": [
  {
   "cell_type": "code",
   "execution_count": 25,
   "id": "81a1b8e3-60c8-4fa3-9b64-fbff1eb59050",
   "metadata": {},
   "outputs": [],
   "source": [
    "import pandas as pd\n",
    "\n",
    "df1 = pd.read_csv('./measurements/oratory1990/over-ear/Focal Elex.csv')\n",
    "df2 = pd.read_csv('./Diffuse field 5128.csv')"
   ]
  },
  {
   "cell_type": "code",
   "execution_count": 24,
   "id": "8a06cc43-7ac1-4e0c-a37d-607cd9f9924b",
   "metadata": {},
   "outputs": [
    {
     "name": "stdout",
     "output_type": "stream",
     "text": [
      "<pandas.core.indexing._iLocIndexer object at 0x119773480>\n"
     ]
    }
   ],
   "source": [
    "print(df2.iloc[0:5])\n",
    "    "
   ]
  }
 ],
 "metadata": {
  "kernelspec": {
   "display_name": "Python 3 (ipykernel)",
   "language": "python",
   "name": "python3"
  },
  "language_info": {
   "codemirror_mode": {
    "name": "ipython",
    "version": 3
   },
   "file_extension": ".py",
   "mimetype": "text/x-python",
   "name": "python",
   "nbconvert_exporter": "python",
   "pygments_lexer": "ipython3",
   "version": "3.12.1"
  }
 },
 "nbformat": 4,
 "nbformat_minor": 5
}
