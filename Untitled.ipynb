{
 "cells": [
  {
   "cell_type": "code",
   "execution_count": 4,
   "id": "81a1b8e3-60c8-4fa3-9b64-fbff1eb59050",
   "metadata": {},
   "outputs": [],
   "source": [
    "import pandas as pd\n",
    "\n",
    "df1 = pd.read_csv('./measurements/Focal Elex.csv')"
   ]
  },
  {
   "cell_type": "code",
   "execution_count": 5,
   "id": "8a06cc43-7ac1-4e0c-a37d-607cd9f9924b",
   "metadata": {},
   "outputs": [
    {
     "name": "stdout",
     "output_type": "stream",
     "text": [
      "     frequency    raw\n",
      "0        20.00  -4.83\n",
      "1        20.20  -4.83\n",
      "2        20.40  -4.77\n",
      "3        20.61  -4.72\n",
      "4        20.81  -4.69\n",
      "..         ...    ...\n",
      "690   19176.88 -10.85\n",
      "691   19368.65 -10.72\n",
      "692   19562.33 -10.61\n",
      "693   19757.96 -10.53\n",
      "694   19955.54 -10.47\n",
      "\n",
      "[695 rows x 2 columns]\n"
     ]
    }
   ],
   "source": [
    "print(df1)"
   ]
  },
  {
   "cell_type": "code",
   "execution_count": null,
   "id": "f7453e26-f629-47aa-a848-33bfc4312232",
   "metadata": {},
   "outputs": [],
   "source": []
  }
 ],
 "metadata": {
  "kernelspec": {
   "display_name": "Python 3",
   "language": "python",
   "name": "python3"
  },
  "language_info": {
   "codemirror_mode": {
    "name": "ipython",
    "version": 3
   },
   "file_extension": ".py",
   "mimetype": "text/x-python",
   "name": "python",
   "nbconvert_exporter": "python",
   "pygments_lexer": "ipython3",
   "version": "3.12.8"
  }
 },
 "nbformat": 4,
 "nbformat_minor": 5
}
